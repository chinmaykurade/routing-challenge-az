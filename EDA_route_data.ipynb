{
 "cells": [
  {
   "cell_type": "code",
   "execution_count": 1,
   "id": "pressing-reception",
   "metadata": {},
   "outputs": [],
   "source": [
    "import pandas as pd\n",
    "import numpy as np\n",
    "import json\n",
    "import matplotlib.pyplot as plt\n",
    "import os\n",
    "%matplotlib inline"
   ]
  },
  {
   "cell_type": "code",
   "execution_count": 2,
   "id": "reduced-midnight",
   "metadata": {},
   "outputs": [],
   "source": [
    "pd.set_option('display.max_rows', None)\n",
    "pd.set_option('display.max_columns', None)"
   ]
  },
  {
   "cell_type": "code",
   "execution_count": 3,
   "id": "minor-pregnancy",
   "metadata": {},
   "outputs": [],
   "source": [
    "file = 'data/model_build_inputs/actual_sequences.json'\n",
    "df = pd.read_json(file)"
   ]
  },
  {
   "cell_type": "code",
   "execution_count": 4,
   "id": "numeric-specification",
   "metadata": {},
   "outputs": [
    {
     "data": {
      "text/plain": [
       "RouteID_00143bdd-0a6b-49ec-bb35-36593d303e77    {'AD': 105, 'AF': 47, 'AG': 4, 'BA': 33, 'BE':...\n",
       "RouteID_0016bc70-cb8d-48b0-aa55-8ee50bdcdb59    {'AC': 36, 'AE': 28, 'AG': 104, 'AN': 94, 'AS'...\n",
       "RouteID_001948e9-4675-486d-9ec5-912fd8e0770f    {'AA': 58, 'AD': 94, 'AJ': 41, 'AP': 124, 'AR'...\n",
       "RouteID_001b4ee3-c4f2-467f-932b-c85524d1021f    {'AB': 122, 'AC': 39, 'AG': 27, 'AI': 16, 'AU'...\n",
       "RouteID_0021a2aa-780f-460d-b09a-f301709e2523    {'AA': 43, 'AB': 54, 'AF': 72, 'AG': 31, 'AI':...\n",
       "RouteID_0036cf37-1c93-48f8-b337-3dd6d1a195d8    {'AI': 108, 'AL': 96, 'AQ': 21, 'AX': 88, 'BD'...\n",
       "RouteID_00437423-5a8f-4fac-8efa-85264f0a3944    {'AA': 19, 'AH': 97, 'AJ': 35, 'AN': 37, 'AQ':...\n",
       "RouteID_00573a3d-b909-42ee-8a99-c6474309d96b    {'AB': 7, 'AG': 62, 'AL': 17, 'AO': 35, 'AQ': ...\n",
       "RouteID_00575a14-7d19-4291-8853-8f7095ed1bc6    {'AB': 53, 'AD': 21, 'AG': 104, 'AP': 86, 'AU'...\n",
       "RouteID_00575ca4-8a63-49d2-96c8-9b347be5ba6c    {'AG': 3, 'AR': 18, 'AW': 35, 'BC': 53, 'BM': ...\n",
       "Name: actual, dtype: object"
      ]
     },
     "execution_count": 4,
     "metadata": {},
     "output_type": "execute_result"
    }
   ],
   "source": [
    "df.iloc[0,:10]"
   ]
  },
  {
   "cell_type": "markdown",
   "id": "precious-retro",
   "metadata": {},
   "source": [
    "## Importing the route data"
   ]
  },
  {
   "cell_type": "code",
   "execution_count": 63,
   "id": "crucial-bishop",
   "metadata": {},
   "outputs": [
    {
     "name": "stdout",
     "output_type": "stream",
     "text": [
      "Reading Input Data\n"
     ]
    }
   ],
   "source": [
    "# Get Directory\n",
    "BASE_DIR = \"D:/Code/RoutingChallenge/routing-challenge-az\"\n",
    "\n",
    "training_routes_path=os.path.join(BASE_DIR, 'data/model_build_inputs/route_data.json')\n",
    "\n",
    "# Read route data\n",
    "print('Reading Input Data')\n",
    "df_route_data = pd.read_json(training_routes_path).T"
   ]
  },
  {
   "cell_type": "code",
   "execution_count": 64,
   "id": "tender-retailer",
   "metadata": {},
   "outputs": [
    {
     "data": {
      "text/plain": [
       "(6112, 6)"
      ]
     },
     "execution_count": 64,
     "metadata": {},
     "output_type": "execute_result"
    }
   ],
   "source": [
    "df_route_data.shape"
   ]
  },
  {
   "cell_type": "code",
   "execution_count": 65,
   "id": "looking-bikini",
   "metadata": {},
   "outputs": [
    {
     "data": {
      "text/html": [
       "<div>\n",
       "<style scoped>\n",
       "    .dataframe tbody tr th:only-of-type {\n",
       "        vertical-align: middle;\n",
       "    }\n",
       "\n",
       "    .dataframe tbody tr th {\n",
       "        vertical-align: top;\n",
       "    }\n",
       "\n",
       "    .dataframe thead th {\n",
       "        text-align: right;\n",
       "    }\n",
       "</style>\n",
       "<table border=\"1\" class=\"dataframe\">\n",
       "  <thead>\n",
       "    <tr style=\"text-align: right;\">\n",
       "      <th></th>\n",
       "      <th>station_code</th>\n",
       "      <th>date_YYYY_MM_DD</th>\n",
       "      <th>departure_time_utc</th>\n",
       "      <th>executor_capacity_cm3</th>\n",
       "      <th>route_score</th>\n",
       "      <th>stops</th>\n",
       "    </tr>\n",
       "  </thead>\n",
       "  <tbody>\n",
       "    <tr>\n",
       "      <th>RouteID_00143bdd-0a6b-49ec-bb35-36593d303e77</th>\n",
       "      <td>DLA3</td>\n",
       "      <td>2018-07-27</td>\n",
       "      <td>16:02:10</td>\n",
       "      <td>3313071.0</td>\n",
       "      <td>High</td>\n",
       "      <td>{'AD': {'lat': 34.099611, 'lng': -118.283062, ...</td>\n",
       "    </tr>\n",
       "    <tr>\n",
       "      <th>RouteID_0016bc70-cb8d-48b0-aa55-8ee50bdcdb59</th>\n",
       "      <td>DSE4</td>\n",
       "      <td>2018-07-28</td>\n",
       "      <td>15:44:41</td>\n",
       "      <td>4247527.0</td>\n",
       "      <td>High</td>\n",
       "      <td>{'AC': {'lat': 47.689446, 'lng': -122.296071, ...</td>\n",
       "    </tr>\n",
       "    <tr>\n",
       "      <th>RouteID_001948e9-4675-486d-9ec5-912fd8e0770f</th>\n",
       "      <td>DSE5</td>\n",
       "      <td>2018-08-18</td>\n",
       "      <td>15:32:04</td>\n",
       "      <td>4247527.0</td>\n",
       "      <td>High</td>\n",
       "      <td>{'AA': {'lat': 47.268001, 'lng': -122.5079, 't...</td>\n",
       "    </tr>\n",
       "    <tr>\n",
       "      <th>RouteID_001b4ee3-c4f2-467f-932b-c85524d1021f</th>\n",
       "      <td>DLA9</td>\n",
       "      <td>2018-08-15</td>\n",
       "      <td>15:09:38</td>\n",
       "      <td>3313071.0</td>\n",
       "      <td>High</td>\n",
       "      <td>{'AB': {'lat': 33.823076, 'lng': -118.058727, ...</td>\n",
       "    </tr>\n",
       "    <tr>\n",
       "      <th>RouteID_0021a2aa-780f-460d-b09a-f301709e2523</th>\n",
       "      <td>DLA7</td>\n",
       "      <td>2018-08-05</td>\n",
       "      <td>14:23:26</td>\n",
       "      <td>3313071.0</td>\n",
       "      <td>High</td>\n",
       "      <td>{'AA': {'lat': 33.84364, 'lng': -117.773651, '...</td>\n",
       "    </tr>\n",
       "  </tbody>\n",
       "</table>\n",
       "</div>"
      ],
      "text/plain": [
       "                                             station_code date_YYYY_MM_DD  \\\n",
       "RouteID_00143bdd-0a6b-49ec-bb35-36593d303e77         DLA3      2018-07-27   \n",
       "RouteID_0016bc70-cb8d-48b0-aa55-8ee50bdcdb59         DSE4      2018-07-28   \n",
       "RouteID_001948e9-4675-486d-9ec5-912fd8e0770f         DSE5      2018-08-18   \n",
       "RouteID_001b4ee3-c4f2-467f-932b-c85524d1021f         DLA9      2018-08-15   \n",
       "RouteID_0021a2aa-780f-460d-b09a-f301709e2523         DLA7      2018-08-05   \n",
       "\n",
       "                                             departure_time_utc  \\\n",
       "RouteID_00143bdd-0a6b-49ec-bb35-36593d303e77           16:02:10   \n",
       "RouteID_0016bc70-cb8d-48b0-aa55-8ee50bdcdb59           15:44:41   \n",
       "RouteID_001948e9-4675-486d-9ec5-912fd8e0770f           15:32:04   \n",
       "RouteID_001b4ee3-c4f2-467f-932b-c85524d1021f           15:09:38   \n",
       "RouteID_0021a2aa-780f-460d-b09a-f301709e2523           14:23:26   \n",
       "\n",
       "                                             executor_capacity_cm3  \\\n",
       "RouteID_00143bdd-0a6b-49ec-bb35-36593d303e77             3313071.0   \n",
       "RouteID_0016bc70-cb8d-48b0-aa55-8ee50bdcdb59             4247527.0   \n",
       "RouteID_001948e9-4675-486d-9ec5-912fd8e0770f             4247527.0   \n",
       "RouteID_001b4ee3-c4f2-467f-932b-c85524d1021f             3313071.0   \n",
       "RouteID_0021a2aa-780f-460d-b09a-f301709e2523             3313071.0   \n",
       "\n",
       "                                             route_score  \\\n",
       "RouteID_00143bdd-0a6b-49ec-bb35-36593d303e77        High   \n",
       "RouteID_0016bc70-cb8d-48b0-aa55-8ee50bdcdb59        High   \n",
       "RouteID_001948e9-4675-486d-9ec5-912fd8e0770f        High   \n",
       "RouteID_001b4ee3-c4f2-467f-932b-c85524d1021f        High   \n",
       "RouteID_0021a2aa-780f-460d-b09a-f301709e2523        High   \n",
       "\n",
       "                                                                                          stops  \n",
       "RouteID_00143bdd-0a6b-49ec-bb35-36593d303e77  {'AD': {'lat': 34.099611, 'lng': -118.283062, ...  \n",
       "RouteID_0016bc70-cb8d-48b0-aa55-8ee50bdcdb59  {'AC': {'lat': 47.689446, 'lng': -122.296071, ...  \n",
       "RouteID_001948e9-4675-486d-9ec5-912fd8e0770f  {'AA': {'lat': 47.268001, 'lng': -122.5079, 't...  \n",
       "RouteID_001b4ee3-c4f2-467f-932b-c85524d1021f  {'AB': {'lat': 33.823076, 'lng': -118.058727, ...  \n",
       "RouteID_0021a2aa-780f-460d-b09a-f301709e2523  {'AA': {'lat': 33.84364, 'lng': -117.773651, '...  "
      ]
     },
     "execution_count": 65,
     "metadata": {},
     "output_type": "execute_result"
    }
   ],
   "source": [
    "df_route_data.head()"
   ]
  },
  {
   "cell_type": "code",
   "execution_count": 66,
   "id": "ordinary-sheffield",
   "metadata": {
    "scrolled": false
   },
   "outputs": [
    {
     "data": {
      "text/plain": [
       "station_code             0\n",
       "date_YYYY_MM_DD          0\n",
       "departure_time_utc       0\n",
       "executor_capacity_cm3    0\n",
       "route_score              0\n",
       "stops                    0\n",
       "dtype: int64"
      ]
     },
     "execution_count": 66,
     "metadata": {},
     "output_type": "execute_result"
    }
   ],
   "source": [
    "df_route_data.isnull().sum()"
   ]
  },
  {
   "cell_type": "markdown",
   "id": "adjusted-spencer",
   "metadata": {},
   "source": [
    "## Separate year, month and day and convert date to datetime object"
   ]
  },
  {
   "cell_type": "code",
   "execution_count": 67,
   "id": "caroline-principle",
   "metadata": {},
   "outputs": [],
   "source": [
    "df_route_data['departure_datetime'] = pd.to_datetime(df_route_data['date_YYYY_MM_DD']+\\\n",
    "                    df_route_data['departure_time_utc'],format=\"%Y-%m-%d%H:%M:%S\")\n",
    "\n",
    "df_route_data['year'] = df_route_data['departure_datetime'].apply(lambda d:d.year)\n",
    "df_route_data['month'] = df_route_data['departure_datetime'].apply(lambda d:d.month)\n",
    "df_route_data['day'] = df_route_data['departure_datetime'].apply(lambda d:d.day)\n",
    "df_route_data['hour'] = df_route_data['departure_datetime'].apply(lambda d:d.hour)\n",
    "df_route_data['minute'] = df_route_data['departure_datetime'].apply(lambda d:d.minute)\n",
    "df_route_data['second'] = df_route_data['departure_datetime'].apply(lambda d:d.second)\n"
   ]
  },
  {
   "cell_type": "code",
   "execution_count": 68,
   "id": "complete-kinase",
   "metadata": {},
   "outputs": [
    {
     "data": {
      "text/html": [
       "<div>\n",
       "<style scoped>\n",
       "    .dataframe tbody tr th:only-of-type {\n",
       "        vertical-align: middle;\n",
       "    }\n",
       "\n",
       "    .dataframe tbody tr th {\n",
       "        vertical-align: top;\n",
       "    }\n",
       "\n",
       "    .dataframe thead th {\n",
       "        text-align: right;\n",
       "    }\n",
       "</style>\n",
       "<table border=\"1\" class=\"dataframe\">\n",
       "  <thead>\n",
       "    <tr style=\"text-align: right;\">\n",
       "      <th></th>\n",
       "      <th>station_code</th>\n",
       "      <th>date_YYYY_MM_DD</th>\n",
       "      <th>departure_time_utc</th>\n",
       "      <th>executor_capacity_cm3</th>\n",
       "      <th>route_score</th>\n",
       "      <th>stops</th>\n",
       "      <th>departure_datetime</th>\n",
       "      <th>year</th>\n",
       "      <th>month</th>\n",
       "      <th>day</th>\n",
       "      <th>hour</th>\n",
       "      <th>minute</th>\n",
       "      <th>second</th>\n",
       "    </tr>\n",
       "  </thead>\n",
       "  <tbody>\n",
       "    <tr>\n",
       "      <th>RouteID_00143bdd-0a6b-49ec-bb35-36593d303e77</th>\n",
       "      <td>DLA3</td>\n",
       "      <td>2018-07-27</td>\n",
       "      <td>16:02:10</td>\n",
       "      <td>3313071.0</td>\n",
       "      <td>High</td>\n",
       "      <td>{'AD': {'lat': 34.099611, 'lng': -118.283062, ...</td>\n",
       "      <td>2018-07-27 16:02:10</td>\n",
       "      <td>2018</td>\n",
       "      <td>7</td>\n",
       "      <td>27</td>\n",
       "      <td>16</td>\n",
       "      <td>2</td>\n",
       "      <td>10</td>\n",
       "    </tr>\n",
       "    <tr>\n",
       "      <th>RouteID_0016bc70-cb8d-48b0-aa55-8ee50bdcdb59</th>\n",
       "      <td>DSE4</td>\n",
       "      <td>2018-07-28</td>\n",
       "      <td>15:44:41</td>\n",
       "      <td>4247527.0</td>\n",
       "      <td>High</td>\n",
       "      <td>{'AC': {'lat': 47.689446, 'lng': -122.296071, ...</td>\n",
       "      <td>2018-07-28 15:44:41</td>\n",
       "      <td>2018</td>\n",
       "      <td>7</td>\n",
       "      <td>28</td>\n",
       "      <td>15</td>\n",
       "      <td>44</td>\n",
       "      <td>41</td>\n",
       "    </tr>\n",
       "    <tr>\n",
       "      <th>RouteID_001948e9-4675-486d-9ec5-912fd8e0770f</th>\n",
       "      <td>DSE5</td>\n",
       "      <td>2018-08-18</td>\n",
       "      <td>15:32:04</td>\n",
       "      <td>4247527.0</td>\n",
       "      <td>High</td>\n",
       "      <td>{'AA': {'lat': 47.268001, 'lng': -122.5079, 't...</td>\n",
       "      <td>2018-08-18 15:32:04</td>\n",
       "      <td>2018</td>\n",
       "      <td>8</td>\n",
       "      <td>18</td>\n",
       "      <td>15</td>\n",
       "      <td>32</td>\n",
       "      <td>4</td>\n",
       "    </tr>\n",
       "    <tr>\n",
       "      <th>RouteID_001b4ee3-c4f2-467f-932b-c85524d1021f</th>\n",
       "      <td>DLA9</td>\n",
       "      <td>2018-08-15</td>\n",
       "      <td>15:09:38</td>\n",
       "      <td>3313071.0</td>\n",
       "      <td>High</td>\n",
       "      <td>{'AB': {'lat': 33.823076, 'lng': -118.058727, ...</td>\n",
       "      <td>2018-08-15 15:09:38</td>\n",
       "      <td>2018</td>\n",
       "      <td>8</td>\n",
       "      <td>15</td>\n",
       "      <td>15</td>\n",
       "      <td>9</td>\n",
       "      <td>38</td>\n",
       "    </tr>\n",
       "    <tr>\n",
       "      <th>RouteID_0021a2aa-780f-460d-b09a-f301709e2523</th>\n",
       "      <td>DLA7</td>\n",
       "      <td>2018-08-05</td>\n",
       "      <td>14:23:26</td>\n",
       "      <td>3313071.0</td>\n",
       "      <td>High</td>\n",
       "      <td>{'AA': {'lat': 33.84364, 'lng': -117.773651, '...</td>\n",
       "      <td>2018-08-05 14:23:26</td>\n",
       "      <td>2018</td>\n",
       "      <td>8</td>\n",
       "      <td>5</td>\n",
       "      <td>14</td>\n",
       "      <td>23</td>\n",
       "      <td>26</td>\n",
       "    </tr>\n",
       "  </tbody>\n",
       "</table>\n",
       "</div>"
      ],
      "text/plain": [
       "                                             station_code date_YYYY_MM_DD  \\\n",
       "RouteID_00143bdd-0a6b-49ec-bb35-36593d303e77         DLA3      2018-07-27   \n",
       "RouteID_0016bc70-cb8d-48b0-aa55-8ee50bdcdb59         DSE4      2018-07-28   \n",
       "RouteID_001948e9-4675-486d-9ec5-912fd8e0770f         DSE5      2018-08-18   \n",
       "RouteID_001b4ee3-c4f2-467f-932b-c85524d1021f         DLA9      2018-08-15   \n",
       "RouteID_0021a2aa-780f-460d-b09a-f301709e2523         DLA7      2018-08-05   \n",
       "\n",
       "                                             departure_time_utc  \\\n",
       "RouteID_00143bdd-0a6b-49ec-bb35-36593d303e77           16:02:10   \n",
       "RouteID_0016bc70-cb8d-48b0-aa55-8ee50bdcdb59           15:44:41   \n",
       "RouteID_001948e9-4675-486d-9ec5-912fd8e0770f           15:32:04   \n",
       "RouteID_001b4ee3-c4f2-467f-932b-c85524d1021f           15:09:38   \n",
       "RouteID_0021a2aa-780f-460d-b09a-f301709e2523           14:23:26   \n",
       "\n",
       "                                             executor_capacity_cm3  \\\n",
       "RouteID_00143bdd-0a6b-49ec-bb35-36593d303e77             3313071.0   \n",
       "RouteID_0016bc70-cb8d-48b0-aa55-8ee50bdcdb59             4247527.0   \n",
       "RouteID_001948e9-4675-486d-9ec5-912fd8e0770f             4247527.0   \n",
       "RouteID_001b4ee3-c4f2-467f-932b-c85524d1021f             3313071.0   \n",
       "RouteID_0021a2aa-780f-460d-b09a-f301709e2523             3313071.0   \n",
       "\n",
       "                                             route_score  \\\n",
       "RouteID_00143bdd-0a6b-49ec-bb35-36593d303e77        High   \n",
       "RouteID_0016bc70-cb8d-48b0-aa55-8ee50bdcdb59        High   \n",
       "RouteID_001948e9-4675-486d-9ec5-912fd8e0770f        High   \n",
       "RouteID_001b4ee3-c4f2-467f-932b-c85524d1021f        High   \n",
       "RouteID_0021a2aa-780f-460d-b09a-f301709e2523        High   \n",
       "\n",
       "                                                                                          stops  \\\n",
       "RouteID_00143bdd-0a6b-49ec-bb35-36593d303e77  {'AD': {'lat': 34.099611, 'lng': -118.283062, ...   \n",
       "RouteID_0016bc70-cb8d-48b0-aa55-8ee50bdcdb59  {'AC': {'lat': 47.689446, 'lng': -122.296071, ...   \n",
       "RouteID_001948e9-4675-486d-9ec5-912fd8e0770f  {'AA': {'lat': 47.268001, 'lng': -122.5079, 't...   \n",
       "RouteID_001b4ee3-c4f2-467f-932b-c85524d1021f  {'AB': {'lat': 33.823076, 'lng': -118.058727, ...   \n",
       "RouteID_0021a2aa-780f-460d-b09a-f301709e2523  {'AA': {'lat': 33.84364, 'lng': -117.773651, '...   \n",
       "\n",
       "                                              departure_datetime  year  month  \\\n",
       "RouteID_00143bdd-0a6b-49ec-bb35-36593d303e77 2018-07-27 16:02:10  2018      7   \n",
       "RouteID_0016bc70-cb8d-48b0-aa55-8ee50bdcdb59 2018-07-28 15:44:41  2018      7   \n",
       "RouteID_001948e9-4675-486d-9ec5-912fd8e0770f 2018-08-18 15:32:04  2018      8   \n",
       "RouteID_001b4ee3-c4f2-467f-932b-c85524d1021f 2018-08-15 15:09:38  2018      8   \n",
       "RouteID_0021a2aa-780f-460d-b09a-f301709e2523 2018-08-05 14:23:26  2018      8   \n",
       "\n",
       "                                              day  hour  minute  second  \n",
       "RouteID_00143bdd-0a6b-49ec-bb35-36593d303e77   27    16       2      10  \n",
       "RouteID_0016bc70-cb8d-48b0-aa55-8ee50bdcdb59   28    15      44      41  \n",
       "RouteID_001948e9-4675-486d-9ec5-912fd8e0770f   18    15      32       4  \n",
       "RouteID_001b4ee3-c4f2-467f-932b-c85524d1021f   15    15       9      38  \n",
       "RouteID_0021a2aa-780f-460d-b09a-f301709e2523    5    14      23      26  "
      ]
     },
     "execution_count": 68,
     "metadata": {},
     "output_type": "execute_result"
    }
   ],
   "source": [
    "df_route_data.head()"
   ]
  },
  {
   "cell_type": "code",
   "execution_count": 69,
   "id": "outstanding-price",
   "metadata": {},
   "outputs": [
    {
     "name": "stdout",
     "output_type": "stream",
     "text": [
      "<class 'pandas.core.frame.DataFrame'>\n",
      "Index: 6112 entries, RouteID_00143bdd-0a6b-49ec-bb35-36593d303e77 to RouteID_fffd257c-3041-4736-be7a-5efea8af1173\n",
      "Data columns (total 13 columns):\n",
      " #   Column                 Non-Null Count  Dtype         \n",
      "---  ------                 --------------  -----         \n",
      " 0   station_code           6112 non-null   object        \n",
      " 1   date_YYYY_MM_DD        6112 non-null   object        \n",
      " 2   departure_time_utc     6112 non-null   object        \n",
      " 3   executor_capacity_cm3  6112 non-null   object        \n",
      " 4   route_score            6112 non-null   object        \n",
      " 5   stops                  6112 non-null   object        \n",
      " 6   departure_datetime     6112 non-null   datetime64[ns]\n",
      " 7   year                   6112 non-null   int64         \n",
      " 8   month                  6112 non-null   int64         \n",
      " 9   day                    6112 non-null   int64         \n",
      " 10  hour                   6112 non-null   int64         \n",
      " 11  minute                 6112 non-null   int64         \n",
      " 12  second                 6112 non-null   int64         \n",
      "dtypes: datetime64[ns](1), int64(6), object(6)\n",
      "memory usage: 797.5+ KB\n"
     ]
    }
   ],
   "source": [
    "df_route_data.info()"
   ]
  },
  {
   "cell_type": "code",
   "execution_count": 72,
   "id": "clean-bradley",
   "metadata": {},
   "outputs": [
    {
     "data": {
      "text/plain": [
       "(array([2018], dtype=int64),\n",
       " array([7, 8], dtype=int64),\n",
       " array([27, 28, 18, 15,  5,  2,  1, 13,  4,  7, 31,  8,  3, 24, 21, 14, 10,\n",
       "        17, 26, 29, 23,  6, 20, 25, 12, 16, 30, 22, 11,  9, 19],\n",
       "       dtype=int64))"
      ]
     },
     "execution_count": 72,
     "metadata": {},
     "output_type": "execute_result"
    }
   ],
   "source": [
    "df_route_data['year'].unique(),df_route_data['month'].unique(),\\\n",
    "df_route_data['day'].unique()"
   ]
  },
  {
   "cell_type": "code",
   "execution_count": 73,
   "id": "regional-settlement",
   "metadata": {},
   "outputs": [],
   "source": [
    "days_set = set(df_route_data['day'].unique())"
   ]
  },
  {
   "cell_type": "code",
   "execution_count": 75,
   "id": "psychological-baking",
   "metadata": {},
   "outputs": [
    {
     "data": {
      "text/plain": [
       "31"
      ]
     },
     "execution_count": 75,
     "metadata": {},
     "output_type": "execute_result"
    }
   ],
   "source": [
    "len(days_set)"
   ]
  },
  {
   "cell_type": "code",
   "execution_count": 80,
   "id": "sixth-professor",
   "metadata": {},
   "outputs": [],
   "source": [
    "unique_days = df_route_data.groupby('month')['day'].unique()"
   ]
  },
  {
   "cell_type": "code",
   "execution_count": 84,
   "id": "covered-litigation",
   "metadata": {},
   "outputs": [],
   "source": [
    "unique_days=unique_days.apply(lambda x:set(x))"
   ]
  },
  {
   "cell_type": "code",
   "execution_count": 89,
   "id": "weird-wisconsin",
   "metadata": {},
   "outputs": [
    {
     "name": "stdout",
     "output_type": "stream",
     "text": [
      "{19, 20, 21, 22, 23, 24, 25, 26, 27, 28, 29, 30, 31}\n",
      "{1, 2, 3, 4, 5, 6, 7, 8, 9, 10, 11, 12, 13, 14, 15, 16, 17, 18, 19, 20, 21, 22, 23, 24, 25, 26}\n"
     ]
    }
   ],
   "source": [
    "print(unique_days[7])\n",
    "print(unique_days[8])"
   ]
  },
  {
   "cell_type": "markdown",
   "id": "distinct-aruba",
   "metadata": {},
   "source": [
    "### We can see that the data was gathered from 19-07-2018 to 26-08-2018"
   ]
  },
  {
   "cell_type": "code",
   "execution_count": null,
   "id": "spectacular-coffee",
   "metadata": {},
   "outputs": [],
   "source": []
  }
 ],
 "metadata": {
  "kernelspec": {
   "display_name": "Python3.7.9-deepl",
   "language": "python",
   "name": "python3.7.9-deepl"
  },
  "language_info": {
   "codemirror_mode": {
    "name": "ipython",
    "version": 3
   },
   "file_extension": ".py",
   "mimetype": "text/x-python",
   "name": "python",
   "nbconvert_exporter": "python",
   "pygments_lexer": "ipython3",
   "version": "3.7.9"
  }
 },
 "nbformat": 4,
 "nbformat_minor": 5
}
