{
 "cells": [
  {
   "cell_type": "code",
   "execution_count": 1,
   "id": "split-somerset",
   "metadata": {},
   "outputs": [],
   "source": [
    "import pandas as pd\n",
    "import numpy as np\n",
    "import json\n",
    "import matplotlib.pyplot as plt\n",
    "import os\n",
    "%matplotlib inline"
   ]
  },
  {
   "cell_type": "code",
   "execution_count": 2,
   "id": "sticky-there",
   "metadata": {},
   "outputs": [],
   "source": [
    "pd.set_option('display.max_rows', None)\n",
    "pd.set_option('display.max_columns', None)"
   ]
  },
  {
   "cell_type": "markdown",
   "id": "stretch-visitor",
   "metadata": {},
   "source": [
    "### Importing the route data"
   ]
  },
  {
   "cell_type": "code",
   "execution_count": 4,
   "id": "portable-messaging",
   "metadata": {},
   "outputs": [
    {
     "name": "stdout",
     "output_type": "stream",
     "text": [
      "Reading Input Data\n"
     ]
    }
   ],
   "source": [
    "# Get Directory\n",
    "BASE_DIR = \"D:/Code/RoutingChallenge/routing-challenge-az\"\n",
    "\n",
    "training_package=os.path.join(BASE_DIR, 'data/model_build_inputs/package_data.json')\n",
    "\n",
    "# Read route data\n",
    "print('Reading Input Data')\n",
    "df_pkg_data = pd.read_json(training_routes_path).T"
   ]
  },
  {
   "cell_type": "code",
   "execution_count": 5,
   "id": "lined-posting",
   "metadata": {},
   "outputs": [
    {
     "data": {
      "text/plain": [
       "(6112, 675)"
      ]
     },
     "execution_count": 5,
     "metadata": {},
     "output_type": "execute_result"
    }
   ],
   "source": [
    "df_pkg_data.shape"
   ]
  },
  {
   "cell_type": "code",
   "execution_count": 11,
   "id": "received-clark",
   "metadata": {},
   "outputs": [
    {
     "data": {
      "text/plain": [
       "RouteID_00143bdd-0a6b-49ec-bb35-36593d303e77    119\n",
       "RouteID_0016bc70-cb8d-48b0-aa55-8ee50bdcdb59    106\n",
       "RouteID_001948e9-4675-486d-9ec5-912fd8e0770f    128\n",
       "RouteID_001b4ee3-c4f2-467f-932b-c85524d1021f    142\n",
       "RouteID_0021a2aa-780f-460d-b09a-f301709e2523    155\n",
       "dtype: int64"
      ]
     },
     "execution_count": 11,
     "metadata": {},
     "output_type": "execute_result"
    }
   ],
   "source": [
    "675-df_pkg_data.head().isnull().sum(axis=1)"
   ]
  },
  {
   "cell_type": "code",
   "execution_count": 13,
   "id": "italian-worship",
   "metadata": {},
   "outputs": [
    {
     "data": {
      "text/plain": [
       "{'PackageID_9d7fdd03-f2cf-4c6f-9128-028258fc09ea': {'scan_status': 'DELIVERED',\n",
       "  'time_window': {'start_time_utc': None, 'end_time_utc': None},\n",
       "  'planned_service_time_seconds': 59.3,\n",
       "  'dimensions': {'depth_cm': 25.4, 'height_cm': 7.6, 'width_cm': 17.8}},\n",
       " 'PackageID_5541e679-b7bd-4992-b288-e862f6c84ae7': {'scan_status': 'DELIVERED',\n",
       "  'time_window': {'start_time_utc': '2018-07-27 16:00:00',\n",
       "   'end_time_utc': '2018-07-28 00:00:00'},\n",
       "  'planned_service_time_seconds': 59.3,\n",
       "  'dimensions': {'depth_cm': 25.4, 'height_cm': 12.7, 'width_cm': 17.8}},\n",
       " 'PackageID_84d0295b-1adb-4a33-a65e-f7d6247c7a07': {'scan_status': 'DELIVERED',\n",
       "  'time_window': {'start_time_utc': None, 'end_time_utc': None},\n",
       "  'planned_service_time_seconds': 59.3,\n",
       "  'dimensions': {'depth_cm': 39.4, 'height_cm': 7.6, 'width_cm': 31.8}}}"
      ]
     },
     "execution_count": 13,
     "metadata": {},
     "output_type": "execute_result"
    }
   ],
   "source": [
    "df_pkg_data.iloc[0,0]"
   ]
  },
  {
   "cell_type": "code",
   "execution_count": null,
   "id": "distant-canvas",
   "metadata": {},
   "outputs": [],
   "source": []
  }
 ],
 "metadata": {
  "kernelspec": {
   "display_name": "Python3.7.9-deepl",
   "language": "python",
   "name": "python3.7.9-deepl"
  },
  "language_info": {
   "codemirror_mode": {
    "name": "ipython",
    "version": 3
   },
   "file_extension": ".py",
   "mimetype": "text/x-python",
   "name": "python",
   "nbconvert_exporter": "python",
   "pygments_lexer": "ipython3",
   "version": "3.7.9"
  }
 },
 "nbformat": 4,
 "nbformat_minor": 5
}
