{
 "cells": [
  {
   "cell_type": "code",
   "execution_count": 1,
   "id": "split-somerset",
   "metadata": {},
   "outputs": [],
   "source": [
    "import pandas as pd\n",
    "import numpy as np\n",
    "import json\n",
    "import matplotlib.pyplot as plt\n",
    "import os\n",
    "%matplotlib inline"
   ]
  },
  {
   "cell_type": "code",
   "execution_count": 2,
   "id": "sticky-there",
   "metadata": {},
   "outputs": [],
   "source": [
    "pd.set_option('display.max_rows', None)\n",
    "pd.set_option('display.max_columns', None)"
   ]
  },
  {
   "cell_type": "markdown",
   "id": "stretch-visitor",
   "metadata": {},
   "source": [
    "### Importing the route data"
   ]
  },
  {
   "cell_type": "code",
   "execution_count": 17,
   "id": "portable-messaging",
   "metadata": {},
   "outputs": [
    {
     "name": "stdout",
     "output_type": "stream",
     "text": [
      "Reading Input Data\n"
     ]
    }
   ],
   "source": [
    "# Get Directory\n",
    "BASE_DIR = \"D:/Code/RoutingChallenge/routing-challenge-az\"\n",
    "\n",
    "training_package=os.path.join(BASE_DIR, 'data/model_build_inputs/package_data.json')\n",
    "\n",
    "# Read route data\n",
    "print('Reading Input Data')\n",
    "df_pkg = pd.read_json(training_routes_path).T"
   ]
  },
  {
   "cell_type": "code",
   "execution_count": 18,
   "id": "lined-posting",
   "metadata": {},
   "outputs": [
    {
     "data": {
      "text/plain": [
       "(6112, 675)"
      ]
     },
     "execution_count": 18,
     "metadata": {},
     "output_type": "execute_result"
    }
   ],
   "source": [
    "df_pkg.shape"
   ]
  },
  {
   "cell_type": "code",
   "execution_count": 19,
   "id": "received-clark",
   "metadata": {},
   "outputs": [
    {
     "data": {
      "text/plain": [
       "RouteID_00143bdd-0a6b-49ec-bb35-36593d303e77    119\n",
       "RouteID_0016bc70-cb8d-48b0-aa55-8ee50bdcdb59    106\n",
       "RouteID_001948e9-4675-486d-9ec5-912fd8e0770f    128\n",
       "RouteID_001b4ee3-c4f2-467f-932b-c85524d1021f    142\n",
       "RouteID_0021a2aa-780f-460d-b09a-f301709e2523    155\n",
       "dtype: int64"
      ]
     },
     "execution_count": 19,
     "metadata": {},
     "output_type": "execute_result"
    }
   ],
   "source": [
    "675-df_pkg.head().isnull().sum(axis=1)"
   ]
  },
  {
   "cell_type": "markdown",
   "id": "virgin-terry",
   "metadata": {},
   "source": [
    "It matches with number of stops"
   ]
  },
  {
   "cell_type": "code",
   "execution_count": 31,
   "id": "juvenile-anniversary",
   "metadata": {},
   "outputs": [
    {
     "data": {
      "text/plain": [
       "{'PackageID_8a90dea1-cf2c-40f8-b91c-4998d32c4b9d': {'scan_status': 'DELIVERED',\n",
       "  'time_window': {'start_time_utc': '2018-07-27 16:00:00',\n",
       "   'end_time_utc': '2018-07-27 23:00:00'},\n",
       "  'planned_service_time_seconds': 47.5,\n",
       "  'dimensions': {'depth_cm': 25.4, 'height_cm': 12.7, 'width_cm': 17.8}},\n",
       " 'PackageID_d1d64da8-ade4-4936-9450-b28af876f75a': {'scan_status': 'DELIVERED',\n",
       "  'time_window': {'start_time_utc': '2018-07-27 16:00:00',\n",
       "   'end_time_utc': '2018-07-27 23:00:00'},\n",
       "  'planned_service_time_seconds': 47.5,\n",
       "  'dimensions': {'depth_cm': 33.0, 'height_cm': 20.3, 'width_cm': 26.7}}}"
      ]
     },
     "execution_count": 31,
     "metadata": {},
     "output_type": "execute_result"
    }
   ],
   "source": [
    "pkgs = df_pkg.iloc[0,:].dropna().iloc[10]\n",
    "pkgs"
   ]
  },
  {
   "cell_type": "code",
   "execution_count": 187,
   "id": "distant-canvas",
   "metadata": {},
   "outputs": [],
   "source": [
    "def get_time_windows_package(pkgs, handle_mismatch='intersection',verbose=False):\n",
    "    time_windows = {}\n",
    "    start,end = None,None\n",
    "#     print(pkgs)\n",
    "    if pkgs is np.nan:\n",
    "        return None\n",
    "    for idd,pkg in pkgs.items():\n",
    "        if verbose:\n",
    "            print(start,end)\n",
    "        time_window = pkg['time_window']\n",
    "        if verbose: \n",
    "            print('>>',end='   ')\n",
    "            print(time_window['start_time_utc'],end='   ')\n",
    "            print(time_window['end_time_utc'])\n",
    "        if start is None and end is None:\n",
    "            start = time_window['start_time_utc']\n",
    "            end = time_window['end_time_utc']\n",
    "            if start is not None:\n",
    "                start = np.datetime64(start)\n",
    "            if end is not None:\n",
    "                end = np.datetime64(end)\n",
    "        else:\n",
    "            new_start = time_window['start_time_utc']\n",
    "            new_end = time_window['end_time_utc']\n",
    "            \n",
    "            if new_start is not None:\n",
    "                new_start = np.datetime64(new_start)\n",
    "            if new_end is not None:\n",
    "                new_end = np.datetime64(new_end)\n",
    "                \n",
    "            if new_start != start and new_start is not None:\n",
    "                if new_start > end:\n",
    "                    print(f\"Start times mismatch for {idd}\")\n",
    "                else:\n",
    "                    start = min(start, new_start)\n",
    "            if new_end != end and new_end is not None:\n",
    "                if new_end < start:\n",
    "                    print(f\"End times mismatch for {idd}\")\n",
    "                else:\n",
    "                    end = max(end, new_end)\n",
    "                \n",
    "#     print(start,end)\n",
    "#     print(type(start))\n",
    "    return start,end"
   ]
  },
  {
   "cell_type": "code",
   "execution_count": 188,
   "id": "hired-buddy",
   "metadata": {},
   "outputs": [
    {
     "data": {
      "text/plain": [
       "(numpy.datetime64('2018-07-27T16:00:00'),\n",
       " numpy.datetime64('2018-07-28T00:00:00'))"
      ]
     },
     "execution_count": 188,
     "metadata": {},
     "output_type": "execute_result"
    }
   ],
   "source": [
    "pkgs = df_pkg.iloc[0,0]\n",
    "get_time_windows_package(pkgs)"
   ]
  },
  {
   "cell_type": "code",
   "execution_count": 204,
   "id": "otherwise-forest",
   "metadata": {},
   "outputs": [],
   "source": [
    "def get_time_windows_all(df_pkg):\n",
    "    df_tw = df_pkg.copy()\n",
    "    for route in df_pkg.index:\n",
    "#         print(route)\n",
    "#         print(df_pkg.loc[route,:])\n",
    "        df_tw.loc[route,:] = df_pkg.loc[route,:].apply(lambda x: get_time_windows_package(x))\n",
    "    return df_tw"
   ]
  },
  {
   "cell_type": "code",
   "execution_count": 205,
   "id": "boring-madrid",
   "metadata": {},
   "outputs": [],
   "source": [
    "df_tw = get_time_windows_all(df_pkg)"
   ]
  },
  {
   "cell_type": "code",
   "execution_count": 206,
   "id": "stopped-nigeria",
   "metadata": {},
   "outputs": [
    {
     "data": {
      "text/plain": [
       "(6112, 675)"
      ]
     },
     "execution_count": 206,
     "metadata": {},
     "output_type": "execute_result"
    }
   ],
   "source": [
    "df_tw.shape"
   ]
  },
  {
   "cell_type": "code",
   "execution_count": 209,
   "id": "charming-symbol",
   "metadata": {},
   "outputs": [
    {
     "data": {
      "text/plain": [
       "119"
      ]
     },
     "execution_count": 209,
     "metadata": {},
     "output_type": "execute_result"
    }
   ],
   "source": [
    "len(df_tw.iloc[0,:].dropna())"
   ]
  },
  {
   "cell_type": "code",
   "execution_count": null,
   "id": "inner-illustration",
   "metadata": {},
   "outputs": [],
   "source": []
  }
 ],
 "metadata": {
  "kernelspec": {
   "display_name": "Python3.7.9-deepl",
   "language": "python",
   "name": "python3.7.9-deepl"
  },
  "language_info": {
   "codemirror_mode": {
    "name": "ipython",
    "version": 3
   },
   "file_extension": ".py",
   "mimetype": "text/x-python",
   "name": "python",
   "nbconvert_exporter": "python",
   "pygments_lexer": "ipython3",
   "version": "3.7.9"
  }
 },
 "nbformat": 4,
 "nbformat_minor": 5
}
